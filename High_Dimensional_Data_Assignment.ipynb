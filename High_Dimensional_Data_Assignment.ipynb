{
  "nbformat": 4,
  "nbformat_minor": 0,
  "metadata": {
    "colab": {
      "name": "High Dimensional Data Assignment.ipynb",
      "version": "0.3.2",
      "provenance": [],
      "collapsed_sections": [],
      "include_colab_link": true
    },
    "kernelspec": {
      "name": "python3",
      "display_name": "Python 3"
    }
  },
  "cells": [
    {
      "cell_type": "markdown",
      "metadata": {
        "id": "view-in-github",
        "colab_type": "text"
      },
      "source": [
        "<a href=\"https://colab.research.google.com/github/elliotgunn/DS-Unit-1-Sprint-4-Linear-Algebra/blob/master/High_Dimensional_Data_Assignment.ipynb\" target=\"_parent\"><img src=\"https://colab.research.google.com/assets/colab-badge.svg\" alt=\"Open In Colab\"/></a>"
      ]
    },
    {
      "cell_type": "markdown",
      "metadata": {
        "id": "7wMWCkE1RZpM",
        "colab_type": "text"
      },
      "source": [
        "# Vertical Line Test"
      ]
    },
    {
      "cell_type": "markdown",
      "metadata": {
        "id": "W0-g7aprRv2j",
        "colab_type": "text"
      },
      "source": [
        "## 1.1 Create two graphs, one that passes the vertical line test and one that does not."
      ]
    },
    {
      "cell_type": "code",
      "metadata": {
        "id": "9L5os4yo0lim",
        "colab_type": "code",
        "colab": {}
      },
      "source": [
        "import matplotlib.pyplot as plt\n",
        "\n",
        "from matplotlib.patches import Circle"
      ],
      "execution_count": 0,
      "outputs": []
    },
    {
      "cell_type": "code",
      "metadata": {
        "id": "9yF85n5d4niZ",
        "colab_type": "code",
        "outputId": "32d0b8f9-14a6-4ca9-e56b-08944cac8ce1",
        "colab": {
          "base_uri": "https://localhost:8080/",
          "height": 487
        }
      },
      "source": [
        "#Create figure\n",
        "fig = plt.figure(figsize=(8,8))\n",
        "ax = fig.add_subplot(1,1,1)\n",
        "\n",
        "# circle\n",
        "circle = Circle((0.5, 0.5), 0.1, fill=False, color='b')\n",
        "\n",
        "# Draw the circles to our plot\n",
        "ax.add_artist(circle)\n",
        "\n",
        "# line\n",
        "plt.axhline(y=0.9, color='r', linestyle='-')\n",
        "plt.show()\n",
        "\n",
        "\n",
        "plt.show();"
      ],
      "execution_count": 0,
      "outputs": [
        {
          "output_type": "display_data",
          "data": {
            "image/png": "[encoded data removed]",
            "text/plain": [
              "<Figure size 576x576 with 1 Axes>"
            ]
          },
          "metadata": {
            "tags": []
          }
        }
      ]
    },
    {
      "cell_type": "markdown",
      "metadata": {
        "id": "ckeTKqMgRy7g",
        "colab_type": "text"
      },
      "source": [
        "## 1.2 Why are graphs that don't pass the vertical line test not considered \"functions?\""
      ]
    },
    {
      "cell_type": "markdown",
      "metadata": {
        "id": "Gtl20YeDR6x-",
        "colab_type": "text"
      },
      "source": [
        "Because a function can only have one output, y, for each unique input, x\n",
        "\n",
        "No two inputs have the same output \n",
        "\n",
        "Each input is mapped to no more than one output\n",
        "\n",
        "shortcut: repeated x values are a red flag"
      ]
    },
    {
      "cell_type": "markdown",
      "metadata": {
        "id": "g21uN62xSKSk",
        "colab_type": "text"
      },
      "source": [
        "# Functions as Relations"
      ]
    },
    {
      "cell_type": "markdown",
      "metadata": {
        "id": "gwkcV-EMSMNd",
        "colab_type": "text"
      },
      "source": [
        "## 2.1 Which of the following relations are functions? Why?\n",
        "\n",
        "\\begin{align}\n",
        "\\text{Relation 1: } \\{(1, 2), (3, 2), (1, 3)\\}\n",
        "\\\\\n",
        "\\text{Relation 2: } \\{(1, 3), (2, 3), (6, 7)\\}\n",
        "\\\\\n",
        "\\text{Relation 3: } \\{(9, 4), (2, 1), (9, 6)\\}\n",
        "\\\\\n",
        "\\text{Relation 4: } \\{(6, 2), (8, 3), (6, 4)\\}\n",
        "\\\\\n",
        "\\text{Relation 5: } \\{(2, 6), (2, 7), (2, 4)\\}\n",
        "\\end{align}"
      ]
    },
    {
      "cell_type": "markdown",
      "metadata": {
        "id": "0-n_jllB2Jgr",
        "colab_type": "text"
      },
      "source": [
        "only relation 2 "
      ]
    },
    {
      "cell_type": "markdown",
      "metadata": {
        "id": "y0U30PrlTAAa",
        "colab_type": "text"
      },
      "source": [
        "# Functions as a mapping between dimensions\n"
      ]
    },
    {
      "cell_type": "markdown",
      "metadata": {
        "id": "pw-OU9qmT5Ua",
        "colab_type": "text"
      },
      "source": [
        "## 3.1 for the following functions what is the dimensionality of the domain (input) and codomain (range/output)?\n",
        "\n",
        "\\begin{align}\n",
        "m(𝑥_1,𝑥_2,𝑥_3)=(x_1+x_2, x_1+x_3, x_2+x_3)\n",
        "\\\\\n",
        "n(𝑥_1,𝑥_2,𝑥_3,𝑥_4)=(x_2^2 + x_3, x_2x_4)\n",
        "\\end{align}"
      ]
    },
    {
      "cell_type": "code",
      "metadata": {
        "id": "Lfdqiw8z8lKt",
        "colab_type": "code",
        "colab": {}
      },
      "source": [
        "# dimension of input: 3\n",
        "# output: 3\n",
        "\n",
        "# input: 4\n",
        "# output: 2"
      ],
      "execution_count": 0,
      "outputs": []
    },
    {
      "cell_type": "markdown",
      "metadata": {
        "id": "k4tKHjdHUevC",
        "colab_type": "text"
      },
      "source": [
        "## 3.2 Do you think it's possible to create a function that maps from a lower dimensional space to a higher dimensional space? If so, provide an example."
      ]
    },
    {
      "cell_type": "code",
      "metadata": {
        "id": "-nyFx-Z381jz",
        "colab_type": "code",
        "colab": {}
      },
      "source": [
        "# no"
      ],
      "execution_count": 0,
      "outputs": []
    },
    {
      "cell_type": "markdown",
      "metadata": {
        "id": "2nEWvwVyVWdW",
        "colab_type": "text"
      },
      "source": [
        "# Vector Transformations"
      ]
    },
    {
      "cell_type": "markdown",
      "metadata": {
        "id": "1n0-6FsYVcVk",
        "colab_type": "text"
      },
      "source": [
        "## 4.1 Plug the corresponding unit vectors into each function. Use the output vectors to create a transformation matrix.\n",
        "\n",
        "\\begin{align}\n",
        "p(\\begin{bmatrix}x_1 \\\\ x_2 \\end{bmatrix}) = \\begin{bmatrix} x_1 + 3x_2 \\\\2 x_2 - x_1 \\\\  \\end{bmatrix}\n",
        "\\\\\n",
        "\\\\\n",
        "q(\\begin{bmatrix}x_1 \\\\ x_2 \\\\ x_3\\end{bmatrix}) = \\begin{bmatrix} 4x_1 + x_2 + 2x_3 \\\\2 x_2 - x_1 + 3x_3 \\\\ 5x_1 - 2x_3 + x_2  \\end{bmatrix}\n",
        "\\end{align}"
      ]
    },
    {
      "cell_type": "code",
      "metadata": {
        "id": "yFJHBuLz6DE_",
        "colab_type": "code",
        "colab": {}
      },
      "source": [
        "# unit vectors\n",
        "\n",
        "px1 = [1, 3]\n",
        "px2 = [-1, 2]\n",
        "\n",
        "# transformation matrix\n",
        "\n",
        "T = np.array([[1, 3],\n",
        "               [-1,2]])\n",
        "\n"
      ],
      "execution_count": 0,
      "outputs": []
    },
    {
      "cell_type": "code",
      "metadata": {
        "id": "T1c4cbP0CgjE",
        "colab_type": "code",
        "colab": {}
      },
      "source": [
        "# unit vectors\n",
        "\n",
        "px1 = [4, 1, 2]\n",
        "px2 = [4, 1, 2]\n",
        "px3 = [5, 1,-2]\n",
        "\n",
        "# transformation matrix\n",
        "\n",
        "T2 = np.array([[4, 1, 2],\n",
        "               [4, 1, 2],\n",
        "               [5, 1,-2]])"
      ],
      "execution_count": 0,
      "outputs": []
    },
    {
      "cell_type": "markdown",
      "metadata": {
        "id": "n5HUOQIxZ2gp",
        "colab_type": "text"
      },
      "source": [
        "## 4.2 Verify that your transformation matrices are correct by choosing an input matrix and calculating the result both via the traditional functions above and also via vector-matrix multiplication."
      ]
    },
    {
      "cell_type": "code",
      "metadata": {
        "id": "0UANR1IEaVWE",
        "colab_type": "code",
        "outputId": "ecc4b9af-e28c-4159-d2f4-bc0a5d818f57",
        "colab": {
          "base_uri": "https://localhost:8080/",
          "height": 34
        }
      },
      "source": [
        "# verify by multiplying transformation matrix by a random input\n",
        "# x=3, y=4\n",
        "# this should yield \n",
        "# np.array([3+3(4)],\n",
        "          #[2(4)-3] = [15, 5] \n",
        " \n",
        "test = [3, 4]\n",
        "\n",
        "new = np.matmul(T, test)\n",
        "new\n"
      ],
      "execution_count": 0,
      "outputs": [
        {
          "output_type": "execute_result",
          "data": {
            "text/plain": [
              "array([15,  5])"
            ]
          },
          "metadata": {
            "tags": []
          },
          "execution_count": 142
        }
      ]
    },
    {
      "cell_type": "code",
      "metadata": {
        "id": "Z2tzsasUDFSk",
        "colab_type": "code",
        "outputId": "e5ae2700-ff9a-4abe-8207-42e45782e136",
        "colab": {
          "base_uri": "https://localhost:8080/",
          "height": 34
        }
      },
      "source": [
        "# x = 1, y =2, z = 3\n",
        "# this should yield\n",
        "# [12, 12, 1]\n",
        "\n",
        "test = [1,2,3]\n",
        "\n",
        "new = np.matmul(T2, test)\n",
        "new"
      ],
      "execution_count": 0,
      "outputs": [
        {
          "output_type": "execute_result",
          "data": {
            "text/plain": [
              "array([12, 12,  1])"
            ]
          },
          "metadata": {
            "tags": []
          },
          "execution_count": 144
        }
      ]
    },
    {
      "cell_type": "markdown",
      "metadata": {
        "id": "vEoiri3mak7j",
        "colab_type": "text"
      },
      "source": [
        "# Eigenvalues and Eigenvectors"
      ]
    },
    {
      "cell_type": "markdown",
      "metadata": {
        "id": "5HY0R4u7anIr",
        "colab_type": "text"
      },
      "source": [
        "## 5.1 In your own words, give an explanation for the intuition behind eigenvalues and eigenvectors."
      ]
    },
    {
      "cell_type": "markdown",
      "metadata": {
        "id": "yK-bkkp97iuq",
        "colab_type": "text"
      },
      "source": [
        "They always come in pairs. \n",
        "\n",
        "So a linear transformation is when you stretch/squeeze the dimensional space in any one direction. \n",
        "\n",
        "When you stretch/squeeze the dimensional space, the original vector may change in magnitude and direction.\n",
        "\n",
        "But some vectors don't change their direction!\n",
        "\n",
        "If the direction doesn't change, the new vector is an eigenvector, and the scalar by which the vector is transformed to get the new vector is called the eigenvalue.\n",
        "\n",
        "The eigenvalue is the value by which you squish the eigenvector.\n",
        "\n",
        "Example:\n",
        "\n",
        "We have a vector a = 0i + 1j and decide to stretch it vertically at twice the size\n",
        "a' = 0i + 2j\n",
        "Notice that the direction of a has not changed. So this is an eigenvector. \n",
        "The scalar by which a is multiplied to obtain a' is called the eigenvalue (2)\n",
        "\n",
        "\n",
        "Other definitions:\n",
        "An eigenvalue is how much the eigenvalue gets squished during a transformation. Hence it is the scalar that shows how the eigenvector was scaled during transformation.\n"
      ]
    },
    {
      "cell_type": "markdown",
      "metadata": {
        "id": "VdehMwBtatKI",
        "colab_type": "text"
      },
      "source": [
        "# The Curse of Dimensionality"
      ]
    },
    {
      "cell_type": "markdown",
      "metadata": {
        "id": "4oVrJax-a3SK",
        "colab_type": "text"
      },
      "source": [
        "## 6.1 What are some of the challenges of working with high dimensional spaces?"
      ]
    },
    {
      "cell_type": "markdown",
      "metadata": {
        "id": "Rl-SnzB3054S",
        "colab_type": "text"
      },
      "source": [
        "-There is a lot of noise, redundancy\n",
        "-It's hard to visualize and explore it \n",
        "-models with high feature to observation ratio are proe to overfitting\n",
        "-diminishing returns with additional features: the likelihood of adding a feature that contributes meaningful signal decreasing with each additional dimension\n",
        "-it gets expensive due to increased computational workload\n",
        "-increased sparcity of data (more dimensions, more spread out)\n"
      ]
    },
    {
      "cell_type": "markdown",
      "metadata": {
        "id": "ZiBJxsZla88c",
        "colab_type": "text"
      },
      "source": [
        "## 6.2 What is the rule of thumb for how many observations you should have compared to parameters in your model?"
      ]
    },
    {
      "cell_type": "markdown",
      "metadata": {
        "id": "p2TCgRSx1b82",
        "colab_type": "text"
      },
      "source": [
        "N = 5P"
      ]
    },
    {
      "cell_type": "markdown",
      "metadata": {
        "id": "NZmqdeygbHJx",
        "colab_type": "text"
      },
      "source": [
        "# Principal Component Analysis"
      ]
    },
    {
      "cell_type": "markdown",
      "metadata": {
        "id": "i6-UM73gv-iR",
        "colab_type": "text"
      },
      "source": [
        "[Best explanation of PCA](https://stats.stackexchange.com/questions/2691/making-sense-of-principal-component-analysis-eigenvectors-eigenvalues)"
      ]
    },
    {
      "cell_type": "markdown",
      "metadata": {
        "id": "7iEheetpbJdN",
        "colab_type": "text"
      },
      "source": [
        "## 7.1 Load the UCI Machine Learning Repository's [Iris Dataset](https://gist.githubusercontent.com/curran/a08a1080b88344b0c8a7/raw/d546eaee765268bf2f487608c537c05e22e4b221/iris.csv) and use PCA to isolate the dataset's first and second principal components and plot them on a graph. "
      ]
    },
    {
      "cell_type": "code",
      "metadata": {
        "id": "wy9AZVgZcHLZ",
        "colab_type": "code",
        "outputId": "d449914d-81d6-4c8d-83da-c64a0263ccaa",
        "colab": {
          "base_uri": "https://localhost:8080/",
          "height": 204
        }
      },
      "source": [
        "url = 'https://gist.githubusercontent.com/curran/a08a1080b88344b0c8a7/raw/d546eaee765268bf2f487608c537c05e22e4b221/iris.csv'\n",
        "\n",
        "import pandas as pd\n",
        "\n",
        "df = pd.read_csv(url)\n",
        "\n",
        "df.head()"
      ],
      "execution_count": 0,
      "outputs": [
        {
          "output_type": "execute_result",
          "data": {
            "text/html": [
              "<div>\n",
              "<style scoped>\n",
              "    .dataframe tbody tr th:only-of-type {\n",
              "        vertical-align: middle;\n",
              "    }\n",
              "\n",
              "    .dataframe tbody tr th {\n",
              "        vertical-align: top;\n",
              "    }\n",
              "\n",
              "    .dataframe thead th {\n",
              "        text-align: right;\n",
              "    }\n",
              "</style>\n",
              "<table border=\"1\" class=\"dataframe\">\n",
              "  <thead>\n",
              "    <tr style=\"text-align: right;\">\n",
              "      <th></th>\n",
              "      <th>sepal_length</th>\n",
              "      <th>sepal_width</th>\n",
              "      <th>petal_length</th>\n",
              "      <th>petal_width</th>\n",
              "      <th>species</th>\n",
              "    </tr>\n",
              "  </thead>\n",
              "  <tbody>\n",
              "    <tr>\n",
              "      <th>0</th>\n",
              "      <td>5.1</td>\n",
              "      <td>3.5</td>\n",
              "      <td>1.4</td>\n",
              "      <td>0.2</td>\n",
              "      <td>setosa</td>\n",
              "    </tr>\n",
              "    <tr>\n",
              "      <th>1</th>\n",
              "      <td>4.9</td>\n",
              "      <td>3.0</td>\n",
              "      <td>1.4</td>\n",
              "      <td>0.2</td>\n",
              "      <td>setosa</td>\n",
              "    </tr>\n",
              "    <tr>\n",
              "      <th>2</th>\n",
              "      <td>4.7</td>\n",
              "      <td>3.2</td>\n",
              "      <td>1.3</td>\n",
              "      <td>0.2</td>\n",
              "      <td>setosa</td>\n",
              "    </tr>\n",
              "    <tr>\n",
              "      <th>3</th>\n",
              "      <td>4.6</td>\n",
              "      <td>3.1</td>\n",
              "      <td>1.5</td>\n",
              "      <td>0.2</td>\n",
              "      <td>setosa</td>\n",
              "    </tr>\n",
              "    <tr>\n",
              "      <th>4</th>\n",
              "      <td>5.0</td>\n",
              "      <td>3.6</td>\n",
              "      <td>1.4</td>\n",
              "      <td>0.2</td>\n",
              "      <td>setosa</td>\n",
              "    </tr>\n",
              "  </tbody>\n",
              "</table>\n",
              "</div>"
            ],
            "text/plain": [
              "   sepal_length  sepal_width  petal_length  petal_width species\n",
              "0           5.1          3.5           1.4          0.2  setosa\n",
              "1           4.9          3.0           1.4          0.2  setosa\n",
              "2           4.7          3.2           1.3          0.2  setosa\n",
              "3           4.6          3.1           1.5          0.2  setosa\n",
              "4           5.0          3.6           1.4          0.2  setosa"
            ]
          },
          "metadata": {
            "tags": []
          },
          "execution_count": 44
        }
      ]
    },
    {
      "cell_type": "code",
      "metadata": {
        "id": "P4dZ3LnuTiyF",
        "colab_type": "code",
        "outputId": "ec036226-5830-4d42-a81b-474c8861d864",
        "colab": {
          "base_uri": "https://localhost:8080/",
          "height": 68
        }
      },
      "source": [
        "df.columns"
      ],
      "execution_count": 0,
      "outputs": [
        {
          "output_type": "execute_result",
          "data": {
            "text/plain": [
              "Index(['sepal_length', 'sepal_width', 'petal_length', 'petal_width',\n",
              "       'species'],\n",
              "      dtype='object')"
            ]
          },
          "metadata": {
            "tags": []
          },
          "execution_count": 41
        }
      ]
    },
    {
      "cell_type": "markdown",
      "metadata": {
        "id": "AtTiq0lzPlSe",
        "colab_type": "text"
      },
      "source": [
        "## numpy version"
      ]
    },
    {
      "cell_type": "code",
      "metadata": {
        "id": "hXyHmI2ePnnQ",
        "colab_type": "code",
        "colab": {}
      },
      "source": [
        "from numpy import array\n",
        "from numpy import mean, std\n",
        "from numpy import cov\n",
        "from numpy.linalg import eig\n",
        "\n",
        "\n",
        "features = ['sepal_length', 'sepal_width', 'petal_length', 'petal_width']\n",
        "\n",
        "# separating out the features\n",
        "# loc[rows, columns]\n",
        "# .values returns an array\n",
        "x = df.loc[:, features].values\n",
        "\n",
        "# print(\"Data: \", x)\n",
        "\n",
        "# separating out the target\n",
        "y = df.loc[:, 'species'].values\n",
        "\n",
        "\n",
        "# calculate the mean of each column\n",
        "# have to transpose the x columns\n",
        "means = mean(x.T, axis=1)\n",
        "print(\"\\n Means: \\n\", means)\n",
        "\n",
        "# center columns by subtracting column means\n",
        "centered_data = x - means\n",
        "# print(\"\\n Centered Data: \\n\", centered_data)\n",
        "\n",
        "# calculate standard deviation\n",
        "stddevs = std(x.T, axis=1)\n",
        "# print(\"\\n Standardized Data: \\n\", standardized_data)\n",
        "\n",
        "# standardize columns by subtracting means and divide by stddevs\n",
        "standardized_data = (x - mean(x)) / std(x)\n",
        "\n",
        "# calculate covariance matrix of standardized data\n",
        "covariance_matrix = cov(standardized_data.T)\n",
        "# print(\"\\n Covariance Matrix: \\n\", covariance_matrix)\n",
        "\n",
        "# eigendecomposition of covariance matrix\n",
        "values, vectors = eig(covariance_matrix)\n",
        "\n",
        "print(\"\\n Eigenvectors: \\n\", vectors)\n",
        "print(\"\\n Eigenvalues: \\n\", values)\n",
        "\n",
        "# project data\n",
        "P = vectors.T.dot(standardized_data.T)\n",
        "print(\"\\n Projected Data: \\n\", P.T)\n"
      ],
      "execution_count": 0,
      "outputs": []
    },
    {
      "cell_type": "markdown",
      "metadata": {
        "id": "Uau80MXlPjGC",
        "colab_type": "text"
      },
      "source": [
        "## scikitlearn version"
      ]
    },
    {
      "cell_type": "code",
      "metadata": {
        "id": "Iom0FATTI1bJ",
        "colab_type": "code",
        "outputId": "ff402cb7-881d-4136-82a3-9caf84d3be54",
        "colab": {
          "base_uri": "https://localhost:8080/",
          "height": 1000
        }
      },
      "source": [
        "from numpy import array\n",
        "from sklearn.decomposition import PCA\n",
        "from sklearn.preprocessing import StandardScaler\n",
        "\n",
        "features = ['sepal_length', 'sepal_width', 'petal_length', 'petal_width']\n",
        "\n",
        "# separating out the features\n",
        "# loc[rows, columns]\n",
        "# .values returns an array\n",
        "x = df.loc[:, features].values\n",
        "\n",
        "# print(\"Data: \", x)\n",
        "\n",
        "# separating out the target\n",
        "y = df.loc[:, 'species'].values\n",
        "\n",
        "# standardize features\n",
        "x = StandardScaler().fit_transform(x)\n",
        "\n",
        "# create the PCA instance, 2 refers to the top two features we want\n",
        "pca = PCA(2)\n",
        "\n",
        "# fit on data\n",
        "pca.fit(x)\n",
        "\n",
        "# access values and vectors using library\n",
        "print(\"\\n Eigenvectors: \\n\", pca.components_)\n",
        "print(\"\\n Eigenvalues: \\n\",pca.explained_variance_)\n",
        "\n",
        "# transform data\n",
        "B = pca.transform(x)\n",
        "print(\"\\n Projected Data: \\n\", B)\n"
      ],
      "execution_count": 0,
      "outputs": [
        {
          "output_type": "stream",
          "text": [
            "\n",
            " Eigenvectors: \n",
            " [[ 0.52237162 -0.26335492  0.58125401  0.56561105]\n",
            " [ 0.37231836  0.92555649  0.02109478  0.06541577]]\n",
            "\n",
            " Eigenvalues: \n",
            " [2.93035378 0.92740362]\n",
            "\n",
            " Projected Data: \n",
            " [[-2.26454173e+00  5.05703903e-01]\n",
            " [-2.08642550e+00 -6.55404729e-01]\n",
            " [-2.36795045e+00 -3.18477311e-01]\n",
            " [-2.30419716e+00 -5.75367713e-01]\n",
            " [-2.38877749e+00  6.74767397e-01]\n",
            " [-2.07053681e+00  1.51854856e+00]\n",
            " [-2.44571134e+00  7.45626750e-02]\n",
            " [-2.23384186e+00  2.47613932e-01]\n",
            " [-2.34195768e+00 -1.09514636e+00]\n",
            " [-2.18867576e+00 -4.48629048e-01]\n",
            " [-2.16348656e+00  1.07059558e+00]\n",
            " [-2.32737775e+00  1.58587455e-01]\n",
            " [-2.22408272e+00 -7.09118158e-01]\n",
            " [-2.63971626e+00 -9.38281982e-01]\n",
            " [-2.19229151e+00  1.88997851e+00]\n",
            " [-2.25146521e+00  2.72237108e+00]\n",
            " [-2.20275048e+00  1.51375028e+00]\n",
            " [-2.19017916e+00  5.14304308e-01]\n",
            " [-1.89407429e+00  1.43111071e+00]\n",
            " [-2.33994907e+00  1.15803343e+00]\n",
            " [-1.91455639e+00  4.30465163e-01]\n",
            " [-2.20464540e+00  9.52457317e-01]\n",
            " [-2.77416979e+00  4.89517027e-01]\n",
            " [-1.82041156e+00  1.06750793e-01]\n",
            " [-2.22821750e+00  1.62186163e-01]\n",
            " [-1.95702401e+00 -6.07892567e-01]\n",
            " [-2.05206331e+00  2.66014312e-01]\n",
            " [-2.16819365e+00  5.52016495e-01]\n",
            " [-2.14030596e+00  3.36640409e-01]\n",
            " [-2.26879019e+00 -3.14878603e-01]\n",
            " [-2.14455443e+00 -4.83942097e-01]\n",
            " [-1.83193810e+00  4.45266836e-01]\n",
            " [-2.60820287e+00  1.82847519e+00]\n",
            " [-2.43795086e+00  2.18539162e+00]\n",
            " [-2.18867576e+00 -4.48629048e-01]\n",
            " [-2.21111990e+00 -1.84337811e-01]\n",
            " [-2.04441652e+00  6.84956426e-01]\n",
            " [-2.18867576e+00 -4.48629048e-01]\n",
            " [-2.43595220e+00 -8.82169415e-01]\n",
            " [-2.17054720e+00  2.92726955e-01]\n",
            " [-2.28652724e+00  4.67991716e-01]\n",
            " [-1.87170722e+00 -2.32769161e+00]\n",
            " [-2.55783442e+00 -4.53816380e-01]\n",
            " [-1.96427929e+00  4.97391640e-01]\n",
            " [-2.13337283e+00  1.17143211e+00]\n",
            " [-2.07535759e+00 -6.91917347e-01]\n",
            " [-2.38125822e+00  1.15063259e+00]\n",
            " [-2.39819169e+00 -3.62390765e-01]\n",
            " [-2.22678121e+00  1.02548255e+00]\n",
            " [-2.20595417e+00  3.22378453e-02]\n",
            " [ 1.10399365e+00  8.63112446e-01]\n",
            " [ 7.32481440e-01  5.98635573e-01]\n",
            " [ 1.24210951e+00  6.14822450e-01]\n",
            " [ 3.97307283e-01 -1.75816895e+00]\n",
            " [ 1.07259395e+00 -2.11757903e-01]\n",
            " [ 3.84458146e-01 -5.91062469e-01]\n",
            " [ 7.48715076e-01  7.78698611e-01]\n",
            " [-4.97863388e-01 -1.84886877e+00]\n",
            " [ 9.26222368e-01  3.03308268e-02]\n",
            " [ 4.96802558e-03 -1.02940111e+00]\n",
            " [-1.24697461e-01 -2.65806268e+00]\n",
            " [ 4.38730118e-01 -5.88812850e-02]\n",
            " [ 5.51633981e-01 -1.77258156e+00]\n",
            " [ 7.17165066e-01 -1.85434315e-01]\n",
            " [-3.72583830e-02 -4.32795099e-01]\n",
            " [ 8.75890536e-01  5.09998151e-01]\n",
            " [ 3.48006402e-01 -1.90621647e-01]\n",
            " [ 1.53392545e-01 -7.90725456e-01]\n",
            " [ 1.21530321e+00 -1.63335564e+00]\n",
            " [ 1.56941176e-01 -1.30310327e+00]\n",
            " [ 7.38256104e-01  4.02470382e-01]\n",
            " [ 4.72369682e-01 -4.16608222e-01]\n",
            " [ 1.22798821e+00 -9.40914793e-01]\n",
            " [ 6.29381045e-01 -4.16811643e-01]\n",
            " [ 7.00472799e-01 -6.34939277e-02]\n",
            " [ 8.73536987e-01  2.50708611e-01]\n",
            " [ 1.25422219e+00 -8.26200998e-02]\n",
            " [ 1.35823985e+00  3.28820266e-01]\n",
            " [ 6.62126138e-01 -2.24346071e-01]\n",
            " [-4.72815133e-02 -1.05721241e+00]\n",
            " [ 1.21534209e-01 -1.56359238e+00]\n",
            " [ 1.41182261e-02 -1.57339235e+00]\n",
            " [ 2.36010837e-01 -7.75923784e-01]\n",
            " [ 1.05669143e+00 -6.36901284e-01]\n",
            " [ 2.21417088e-01 -2.80847693e-01]\n",
            " [ 4.31783161e-01  8.55136920e-01]\n",
            " [ 1.04941336e+00  5.22197265e-01]\n",
            " [ 1.03587821e+00 -1.39246648e+00]\n",
            " [ 6.70675999e-02 -2.12620735e-01]\n",
            " [ 2.75425066e-01 -1.32981591e+00]\n",
            " [ 2.72335066e-01 -1.11944152e+00]\n",
            " [ 6.23170540e-01  2.75426333e-02]\n",
            " [ 3.30005364e-01 -9.88900732e-01]\n",
            " [-3.73627623e-01 -2.01793227e+00]\n",
            " [ 2.82944343e-01 -8.53950717e-01]\n",
            " [ 8.90531103e-02 -1.74908548e-01]\n",
            " [ 2.24356783e-01 -3.80484659e-01]\n",
            " [ 5.73883486e-01 -1.53719974e-01]\n",
            " [-4.57012873e-01 -1.53946451e+00]\n",
            " [ 2.52244473e-01 -5.95860746e-01]\n",
            " [ 1.84767259e+00  8.71696662e-01]\n",
            " [ 1.15318981e+00 -7.01326114e-01]\n",
            " [ 2.20634950e+00  5.54470105e-01]\n",
            " [ 1.43868540e+00 -5.00105223e-02]\n",
            " [ 1.86789070e+00  2.91192802e-01]\n",
            " [ 2.75419671e+00  7.88432206e-01]\n",
            " [ 3.58374475e-01 -1.56009458e+00]\n",
            " [ 2.30300590e+00  4.09516695e-01]\n",
            " [ 2.00173530e+00 -7.23865359e-01]\n",
            " [ 2.26755460e+00  1.92144299e+00]\n",
            " [ 1.36590943e+00  6.93948040e-01]\n",
            " [ 1.59906459e+00 -4.28248836e-01]\n",
            " [ 1.88425185e+00  4.14332758e-01]\n",
            " [ 1.25308651e+00 -1.16739134e+00]\n",
            " [ 1.46406152e+00 -4.44147569e-01]\n",
            " [ 1.59180930e+00  6.77035372e-01]\n",
            " [ 1.47128019e+00  2.53192472e-01]\n",
            " [ 2.43737848e+00  2.55675734e+00]\n",
            " [ 3.30914118e+00 -2.36132010e-03]\n",
            " [ 1.25398099e+00 -1.71758384e+00]\n",
            " [ 2.04049626e+00  9.07398765e-01]\n",
            " [ 9.73915114e-01 -5.71174376e-01]\n",
            " [ 2.89806444e+00  3.97791359e-01]\n",
            " [ 1.32919369e+00 -4.86760542e-01]\n",
            " [ 1.70424071e+00  1.01414842e+00]\n",
            " [ 1.95772766e+00  1.00333452e+00]\n",
            " [ 1.17190451e+00 -3.18896617e-01]\n",
            " [ 1.01978105e+00  6.55429631e-02]\n",
            " [ 1.78600886e+00 -1.93272800e-01]\n",
            " [ 1.86477791e+00  5.55381532e-01]\n",
            " [ 2.43549739e+00  2.46654468e-01]\n",
            " [ 2.31608241e+00  2.62618387e+00]\n",
            " [ 1.86037143e+00 -1.84672394e-01]\n",
            " [ 1.11127173e+00 -2.95986102e-01]\n",
            " [ 1.19746916e+00 -8.17167742e-01]\n",
            " [ 2.80094940e+00  8.44748194e-01]\n",
            " [ 1.58015525e+00  1.07247450e+00]\n",
            " [ 1.34704442e+00  4.22255966e-01]\n",
            " [ 9.23432978e-01  1.92303705e-02]\n",
            " [ 1.85355198e+00  6.72422729e-01]\n",
            " [ 2.01615720e+00  6.10397038e-01]\n",
            " [ 1.90311686e+00  6.86024832e-01]\n",
            " [ 1.15318981e+00 -7.01326114e-01]\n",
            " [ 2.04330844e+00  8.64684880e-01]\n",
            " [ 2.00169097e+00  1.04855005e+00]\n",
            " [ 1.87052207e+00  3.82821838e-01]\n",
            " [ 1.55849189e+00 -9.05313601e-01]\n",
            " [ 1.52084506e+00  2.66794575e-01]\n",
            " [ 1.37639119e+00  1.01636193e+00]\n",
            " [ 9.59298576e-01 -2.22839447e-02]]\n"
          ],
          "name": "stdout"
        }
      ]
    },
    {
      "cell_type": "code",
      "metadata": {
        "id": "UXntw7Dcn1pe",
        "colab_type": "code",
        "outputId": "4da0f962-4322-4383-f54d-3c2a997a3bcf",
        "colab": {
          "base_uri": "https://localhost:8080/",
          "height": 204
        }
      },
      "source": [
        "# setting up the dataframe for plotting\n",
        "\n",
        "new_df = pd.DataFrame(data=B, columns=['PC1', 'PC2'])\n",
        "\n",
        "new_df.head()"
      ],
      "execution_count": 0,
      "outputs": [
        {
          "output_type": "execute_result",
          "data": {
            "text/html": [
              "<div>\n",
              "<style scoped>\n",
              "    .dataframe tbody tr th:only-of-type {\n",
              "        vertical-align: middle;\n",
              "    }\n",
              "\n",
              "    .dataframe tbody tr th {\n",
              "        vertical-align: top;\n",
              "    }\n",
              "\n",
              "    .dataframe thead th {\n",
              "        text-align: right;\n",
              "    }\n",
              "</style>\n",
              "<table border=\"1\" class=\"dataframe\">\n",
              "  <thead>\n",
              "    <tr style=\"text-align: right;\">\n",
              "      <th></th>\n",
              "      <th>PC1</th>\n",
              "      <th>PC2</th>\n",
              "    </tr>\n",
              "  </thead>\n",
              "  <tbody>\n",
              "    <tr>\n",
              "      <th>0</th>\n",
              "      <td>-2.264542</td>\n",
              "      <td>0.505704</td>\n",
              "    </tr>\n",
              "    <tr>\n",
              "      <th>1</th>\n",
              "      <td>-2.086426</td>\n",
              "      <td>-0.655405</td>\n",
              "    </tr>\n",
              "    <tr>\n",
              "      <th>2</th>\n",
              "      <td>-2.367950</td>\n",
              "      <td>-0.318477</td>\n",
              "    </tr>\n",
              "    <tr>\n",
              "      <th>3</th>\n",
              "      <td>-2.304197</td>\n",
              "      <td>-0.575368</td>\n",
              "    </tr>\n",
              "    <tr>\n",
              "      <th>4</th>\n",
              "      <td>-2.388777</td>\n",
              "      <td>0.674767</td>\n",
              "    </tr>\n",
              "  </tbody>\n",
              "</table>\n",
              "</div>"
            ],
            "text/plain": [
              "        PC1       PC2\n",
              "0 -2.264542  0.505704\n",
              "1 -2.086426 -0.655405\n",
              "2 -2.367950 -0.318477\n",
              "3 -2.304197 -0.575368\n",
              "4 -2.388777  0.674767"
            ]
          },
          "metadata": {
            "tags": []
          },
          "execution_count": 74
        }
      ]
    },
    {
      "cell_type": "code",
      "metadata": {
        "id": "ZvVPF_A5oHZd",
        "colab_type": "code",
        "outputId": "d347dbd9-9be3-48df-d59d-73b451fdb3bc",
        "colab": {
          "base_uri": "https://localhost:8080/",
          "height": 204
        }
      },
      "source": [
        "# adding the \"target\" or projected axis\n",
        "\n",
        "final_df = pd.concat([new_df, df[['species']]], axis = 1)\n",
        "\n",
        "final_df.head()"
      ],
      "execution_count": 0,
      "outputs": [
        {
          "output_type": "execute_result",
          "data": {
            "text/html": [
              "<div>\n",
              "<style scoped>\n",
              "    .dataframe tbody tr th:only-of-type {\n",
              "        vertical-align: middle;\n",
              "    }\n",
              "\n",
              "    .dataframe tbody tr th {\n",
              "        vertical-align: top;\n",
              "    }\n",
              "\n",
              "    .dataframe thead th {\n",
              "        text-align: right;\n",
              "    }\n",
              "</style>\n",
              "<table border=\"1\" class=\"dataframe\">\n",
              "  <thead>\n",
              "    <tr style=\"text-align: right;\">\n",
              "      <th></th>\n",
              "      <th>PC1</th>\n",
              "      <th>PC2</th>\n",
              "      <th>species</th>\n",
              "    </tr>\n",
              "  </thead>\n",
              "  <tbody>\n",
              "    <tr>\n",
              "      <th>0</th>\n",
              "      <td>-2.264542</td>\n",
              "      <td>0.505704</td>\n",
              "      <td>setosa</td>\n",
              "    </tr>\n",
              "    <tr>\n",
              "      <th>1</th>\n",
              "      <td>-2.086426</td>\n",
              "      <td>-0.655405</td>\n",
              "      <td>setosa</td>\n",
              "    </tr>\n",
              "    <tr>\n",
              "      <th>2</th>\n",
              "      <td>-2.367950</td>\n",
              "      <td>-0.318477</td>\n",
              "      <td>setosa</td>\n",
              "    </tr>\n",
              "    <tr>\n",
              "      <th>3</th>\n",
              "      <td>-2.304197</td>\n",
              "      <td>-0.575368</td>\n",
              "      <td>setosa</td>\n",
              "    </tr>\n",
              "    <tr>\n",
              "      <th>4</th>\n",
              "      <td>-2.388777</td>\n",
              "      <td>0.674767</td>\n",
              "      <td>setosa</td>\n",
              "    </tr>\n",
              "  </tbody>\n",
              "</table>\n",
              "</div>"
            ],
            "text/plain": [
              "        PC1       PC2 species\n",
              "0 -2.264542  0.505704  setosa\n",
              "1 -2.086426 -0.655405  setosa\n",
              "2 -2.367950 -0.318477  setosa\n",
              "3 -2.304197 -0.575368  setosa\n",
              "4 -2.388777  0.674767  setosa"
            ]
          },
          "metadata": {
            "tags": []
          },
          "execution_count": 76
        }
      ]
    },
    {
      "cell_type": "code",
      "metadata": {
        "id": "J_t66EEKsFpM",
        "colab_type": "code",
        "outputId": "c6a12e69-8459-46b3-8410-91d00f05db37",
        "colab": {
          "base_uri": "https://localhost:8080/",
          "height": 102
        }
      },
      "source": [
        "final_df['species'].describe()"
      ],
      "execution_count": 0,
      "outputs": [
        {
          "output_type": "execute_result",
          "data": {
            "text/plain": [
              "count            150\n",
              "unique             3\n",
              "top       versicolor\n",
              "freq              50\n",
              "Name: species, dtype: object"
            ]
          },
          "metadata": {
            "tags": []
          },
          "execution_count": 92
        }
      ]
    },
    {
      "cell_type": "code",
      "metadata": {
        "id": "jKG985Vslok0",
        "colab_type": "code",
        "outputId": "acc240a6-7ed3-4797-fa6c-130e4bb6368a",
        "colab": {
          "base_uri": "https://localhost:8080/",
          "height": 360
        }
      },
      "source": [
        "# plot\n",
        "\n",
        "import matplotlib.pyplot as plot\n",
        "\n",
        "fig = plt.figure(figsize = (5,5))\n",
        "\n",
        "# addsubplot(): pos is a three digit integer, where the first digit is the number of rows, the second the number of columns, and the third the index of the subplot\n",
        "ax = fig.add_subplot(1,1,1)\n",
        "\n",
        "ax.set_xlabel('PC1', fontsize=15)\n",
        "ax.set_ylabel('PC2', fontsize=15)\n",
        "ax.set_title('2 component PCA', fontsize = 20)\n",
        "\n",
        "plt.scatter('PC1', 'PC2', data=final_df)\n",
        "\n",
        "plt.show()\n"
      ],
      "execution_count": 0,
      "outputs": [
        {
          "output_type": "display_data",
          "data": {
            "image/png": "[encoded data removed]",
            "text/plain": [
              "<Figure size 360x360 with 1 Axes>"
            ]
          },
          "metadata": {
            "tags": []
          }
        }
      ]
    },
    {
      "cell_type": "code",
      "metadata": {
        "id": "ehQYj0CDsUkk",
        "colab_type": "code",
        "outputId": "693cc93f-31f2-489a-e7d6-129d521260e3",
        "colab": {
          "base_uri": "https://localhost:8080/",
          "height": 360
        }
      },
      "source": [
        "# solution found online \n",
        "\n",
        "fig = plt.figure(figsize = (5,5))\n",
        "ax = fig.add_subplot(1,1,1) \n",
        "ax.set_xlabel('PC1', fontsize = 15)\n",
        "ax.set_ylabel('PC2', fontsize = 15)\n",
        "ax.set_title('2 component PCA', fontsize = 20)\n",
        "targets = ['setosa', 'versicolor', 'virginica']\n",
        "colors = ['r', 'g', 'b']\n",
        "for target, color in zip(targets,colors):\n",
        "    indicesToKeep = final_df['species'] == target\n",
        "    ax.scatter(final_df.loc[indicesToKeep, 'PC1']\n",
        "               , final_df.loc[indicesToKeep, 'PC2']\n",
        "               , c = color\n",
        "               , s = 50)\n",
        "ax.legend(targets)\n",
        "ax.grid()"
      ],
      "execution_count": 0,
      "outputs": [
        {
          "output_type": "display_data",
          "data": {
            "image/png": "[encoded data removed]",
            "text/plain": [
              "<Figure size 360x360 with 1 Axes>"
            ]
          },
          "metadata": {
            "tags": []
          }
        }
      ]
    },
    {
      "cell_type": "markdown",
      "metadata": {
        "id": "RQx7UvsucIrL",
        "colab_type": "text"
      },
      "source": [
        "# Stretch Goal\n",
        "\n",
        "## 1) Do NOT work on the stretch goal until you feel like you have a firm grasp of eigenvectors, eigenvalues, and PCA. Prioritize self-study over the stretch goal if you are not comfortable with those topics yet.\n",
        "\n",
        "## 2) Explore further the intuition behind eigenvalues and eigenvectors by creating your very own eigenfaces:\n",
        "\n",
        "<center>![Eigenfaces](https://i.pinimg.com/236x/1c/f1/01/1cf101a9859437a5d096a04b05be06b4--faces-tattoo.jpg)</center>\n",
        "\n",
        "You don't necessarily have to use this resource, but this will get you started: \n",
        "[Eigenface Tutorial](https://sandipanweb.wordpress.com/2018/01/06/eigenfaces-and-a-simple-face-detector-with-pca-svd-in-python/)"
      ]
    }
  ]
}